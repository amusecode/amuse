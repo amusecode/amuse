{
 "cells": [
  {
   "cell_type": "code",
   "execution_count": null,
   "metadata": {
    "jupyter": {
     "source_hidden": true
    },
    "tags": []
   },
   "outputs": [],
   "source": [
    "%%bash\n",
    "# preamble script to check and install AMUSE components if necessary\n",
    "\n",
    "# required packages for this tutorial:\n",
    "PACKAGES=\"mpi4py amuse-framework amuse-bhtree amuse-sse amuse-seba amuse-sphray\"\n",
    "# skip in case a full development install is present\n",
    "pip show amuse-devel && exit 0\n",
    "for package in ${PACKAGES} \n",
    "do\n",
    "  pip show ${package} || pip install ${package}\n",
    "done"
   ]
  },
  {
   "cell_type": "code",
   "execution_count": null,
   "metadata": {
    "jupyter": {
     "source_hidden": true
    },
    "tags": []
   },
   "outputs": [],
   "source": [
    "# the following fixes are highly recommended\n",
    "\n",
    "#allow oversubscription for openMPI\n",
    "import os\n",
    "os.environ[\"OMPI_MCA_rmaps_base_oversubscribe\"]=\"true\"\n",
    "\n",
    "# use lower cpu resources for idle codes\n",
    "from amuse.support import options\n",
    "options.GlobalOptions.instance().override_value_for_option(\"polling_interval_in_milliseconds\", 10)\n"
   ]
  },
  {
   "cell_type": "code",
   "execution_count": null,
   "metadata": {},
   "outputs": [],
   "source": [
    "%matplotlib inline\n",
    "from matplotlib import pyplot\n",
    "import numpy"
   ]
  },
  {
   "cell_type": "markdown",
   "metadata": {},
   "source": [
    "So far we have been looking at some of the basic tools provided with the AMUSE framework. These tools are generally useful but mainly meant to ease working with *community* codes. *Community* codes form the core of the AMUSE framework and are the functional components to evolve astrophysical models in time or calculate properties of the physical models.\n",
    "\n",
    "*Community* codes are existing and newly developed applications, implemented in C/C++, Fortran or another language. The AMUSE framework provides an interface to these codes so that you can interact with every code in a standard way."
   ]
  },
  {
   "cell_type": "code",
   "execution_count": null,
   "metadata": {},
   "outputs": [],
   "source": [
    "from amuse.lab import *"
   ]
  },
  {
   "cell_type": "markdown",
   "metadata": {},
   "source": [
    "For example, we can calculate the HR diagram of a star by first creating a stellar evolution code."
   ]
  },
  {
   "cell_type": "code",
   "execution_count": null,
   "metadata": {},
   "outputs": [],
   "source": [
    "code = Seba()\n",
    "print(code)"
   ]
  },
  {
   "cell_type": "markdown",
   "metadata": {},
   "source": [
    "The interface to a *Community* code is implemented as a class with a name based on the name of the original application. In this case we will use SeBa, a stellar evolution code based on precalculated tracks.\n",
    "\n",
    "Every code in amuse supports particle collections or grids. SeBa supports two particle collections, one for single stars (called `particles`) and one for binaries (called `binaries`). We will add a particle to the single stars collection."
   ]
  },
  {
   "cell_type": "code",
   "execution_count": null,
   "metadata": {},
   "outputs": [],
   "source": [
    "code.particles.add_particle(Particle(mass=2 | units.MSun))\n",
    "print(code.particles)"
   ]
  },
  {
   "cell_type": "markdown",
   "metadata": {},
   "source": [
    "Next, we will evolve the code for 2 billion years and store the luminosity and temperature in 1 Myr intervals:"
   ]
  },
  {
   "cell_type": "code",
   "execution_count": null,
   "metadata": {},
   "outputs": [],
   "source": [
    "luminosity = [] | units.LSun\n",
    "temperature = [] | units.K\n",
    "\n",
    "t = 0 | units.Myr\n",
    "while t < 2 | units.Gyr:\n",
    "    t += 1. | units.Myr\n",
    "    code.evolve_model(t)\n",
    "    luminosity.append(code.particles[0].luminosity)\n",
    "    temperature.append(code.particles[0].temperature)\n",
    "    if int(t.value_in(units.Myr)) % 100 == 0:\n",
    "        print(\"evolved until t=\", t)"
   ]
  },
  {
   "cell_type": "markdown",
   "metadata": {},
   "source": [
    "After evolving we can save the data or plot it if we want."
   ]
  },
  {
   "cell_type": "code",
   "execution_count": null,
   "metadata": {},
   "outputs": [],
   "source": [
    "pyplot.loglog(temperature.value_in(units.K), luminosity.value_in(units.LSun))\n",
    "pyplot.xlim(pyplot.xlim()[::-1])\n",
    "pyplot.ylim(.1,1.e4)"
   ]
  },
  {
   "cell_type": "markdown",
   "metadata": {},
   "source": [
    "Now we are done, and need to stop the code. After stopping the code we cannot interact with it any longer and requesting any particle attributes of the particles in the code will result in an error. "
   ]
  },
  {
   "cell_type": "code",
   "execution_count": null,
   "metadata": {},
   "outputs": [],
   "source": [
    "code.stop()"
   ]
  },
  {
   "cell_type": "markdown",
   "metadata": {},
   "source": [
    "Code interaction sequence\n",
    "-------------------------\n",
    "\n",
    "All interaction with codes in amuse follows the same general sequence. An instance of the code interface is created, parameters controlling the code are set, particles are added or grids filled, the model is evolved, data is retrieved and the code is stopped."
   ]
  },
  {
   "cell_type": "code",
   "execution_count": null,
   "metadata": {},
   "outputs": [],
   "source": [
    "code = Bhtree()                                                   # 1 code is created and started\n",
    "code.parameters.epsilon_squared = (0.01 | nbody_system.length)**2 # 2 parameters are set\n",
    "code.particles.add_particles(new_plummer_model(100))              # 3 particles are added\n",
    "code.evolve_model(1 | nbody_system.time)                          # 4 model is evolved in the code\n",
    "write_set_to_file(\n",
    "    code.particles,\n",
    "    'evolved_cluster.amuse',\n",
    "    'amuse',\n",
    "    overwrite_file=True,\n",
    ") # 5 data is retrieved\n",
    "print('evolved until', code.model_time)\n",
    "code.stop()                                                       # 6 code is stopped"
   ]
  },
  {
   "cell_type": "markdown",
   "metadata": {},
   "source": [
    "All codes follow this pattern, lets do a radiative transport example"
   ]
  },
  {
   "cell_type": "code",
   "execution_count": null,
   "metadata": {},
   "outputs": [],
   "source": [
    "code = Sphray()                                    # 1 code is created and started\n",
    "code.parameters.box_size = 2.0 | units.kpc         # 2 parameters are set\n",
    "code.parameters.number_of_rays = 10000 | units.Myr**-1      \n",
    "\n",
    "gas = new_ism_cube(5000, 1 | units.kpc, 0.01 | (units.amu / units.cm**3))\n",
    "gas.h_smooth = 0.1 | units.kpc\n",
    "gas.xion = 0.00\n",
    "source = Particle(position=[0, 0, 0] | units.parsec, luminosity=1 | 1.e50 / units.s)\n",
    "\n",
    "code.gas_particles.add_particles(gas)             # 3 particles are added (sphray has two collections, gas and src)\n",
    "code.src_particles.add_particle(source)\n",
    "code.evolve_model(0.5 | units.Myr)                # 4 model is evolved in the code\n",
    "pyplot.scatter(\n",
    "    gas.position.lengths().value_in(units.kpc),\n",
    "    code.gas_particles.xion,                      # 5 data is retrieved\n",
    ")\n",
    "code.stop()                                       # 6 code is stopped"
   ]
  },
  {
   "cell_type": "markdown",
   "metadata": {},
   "source": [
    "Some steps are optional, for example in a lot of codes you do not need to set any parameters if you have a simple problem. Others are critical, for example, you'll need to add particles to the code or else it will not evolve anything and some codes will return with an error.\n",
    "\n",
    "In AMUSE, codes are combined by having multiple `evolve_model` steps and changing attribute values or adding and removing particles in between these steps. A first order combination of stellar dynamics and stellar evolutions simply copies the evolved masses from the stellar evolution code to the stellar dynamics code. The combined script contains the 6 steps of the generic sequence for each code and creates an interaction between the codes. "
   ]
  },
  {
   "cell_type": "code",
   "execution_count": null,
   "metadata": {},
   "outputs": [],
   "source": [
    "converter = nbody_system.nbody_to_si(100 | units.MSun, 1 | units.parsec)\n",
    "stars = new_plummer_model(100, converter)\n",
    "stars.mass = new_salpeter_mass_distribution(100, mass_min=1 | units.MSun)\n",
    "\n",
    "code1 = Hermite(converter)                        # 1 code is created and started\n",
    "code1.parameters.epsilon_squared = (0.01 | nbody_system.length)**2 # 2 parameters are set\n",
    "code1.particles.add_particles(stars)              # 3 particles are added\n",
    "\n",
    "code2 = Seba()                                    # 1 code is created and started\n",
    "code2.particles.add_particles(stars)              # 3 particles are added\n",
    "\n",
    "dt = 0.5 | units.Myr\n",
    "t = 0.0 | units.Myr\n",
    "print(\n",
    "    \"total mass (at t = %s): %s\"\n",
    "    % (t, code1.particles.mass.sum().in_(units.MSun))\n",
    ")\n",
    "while t < 10 | units.Myr:\n",
    "    t += dt\n",
    "    code1.evolve_model(t)   # 4 model is evolved in the code\n",
    "    code2.evolve_model(t)   # 4 model is evolved in the code\n",
    "    code1.particles.mass = code2.particles.mass\n",
    "print(\n",
    "    \"total mass (at t = %s): %s\"\n",
    "    % (t, code1.particles.mass.sum().in_(units.MSun))  # 5 data is retrieved\n",
    ")\n",
    "\n",
    "code1.stop()   # 6 code is stopped\n",
    "code2.stop()   # 6 code is stopped"
   ]
  },
  {
   "cell_type": "markdown",
   "metadata": {},
   "source": [
    "In the AMUSE primer many more scripts are shown and the primer shows how to create more difficult and interesting interactions on a step by step basis. In this tutorial we will continue with showing the individual AMUSE framework tools and the general structure of interacting with a single code. The examples in the AMUSE primer focus on getting the science correct, where the tutorial will show you how to get the AMUSE syntax correct. For example in the above script we should think about when and how to take the timesteps, the mass loss should probably be a smooth function in time for the stellar dynamics to make sense (so smaller steps when interesting physics happens in a star). Considerations like these are handled in detail in the AMUSE primer."
   ]
  }
 ],
 "metadata": {
  "kernelspec": {
   "display_name": "Python 3 (ipykernel)",
   "language": "python",
   "name": "python3"
  },
  "language_info": {
   "codemirror_mode": {
    "name": "ipython",
    "version": 3
   },
   "file_extension": ".py",
   "mimetype": "text/x-python",
   "name": "python",
   "nbconvert_exporter": "python",
   "pygments_lexer": "ipython3",
   "version": "3.8.13"
  }
 },
 "nbformat": 4,
 "nbformat_minor": 4
}
