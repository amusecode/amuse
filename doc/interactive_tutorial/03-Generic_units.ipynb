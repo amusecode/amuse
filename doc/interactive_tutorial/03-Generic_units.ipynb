{
 "cells": [
  {
   "cell_type": "code",
   "execution_count": null,
   "metadata": {
    "jupyter": {
     "source_hidden": true
    },
    "tags": []
   },
   "outputs": [],
   "source": [
    "%%bash\n",
    "# preamble script to check and install AMUSE components if necessary\n",
    "\n",
    "# required packages for this tutorial:\n",
    "PACKAGES=\"amuse-framework\"\n",
    "# skip in case a full development install is present\n",
    "pip show amuse-devel && exit 0\n",
    "for package in ${PACKAGES} \n",
    "do\n",
    "  pip show ${package} || pip install ${package}\n",
    "done"
   ]
  },
  {
   "cell_type": "code",
   "execution_count": null,
   "metadata": {
    "jupyter": {
     "source_hidden": true
    },
    "tags": []
   },
   "outputs": [],
   "source": [
    "# the following fixes are highly recommended\n",
    "\n",
    "#allow oversubscription for openMPI\n",
    "import os\n",
    "os.environ[\"OMPI_MCA_rmaps_base_oversubscribe\"]=\"true\"\n",
    "\n",
    "# use lower cpu resources for idle codes\n",
    "from amuse.support import options\n",
    "options.GlobalOptions.instance().override_value_for_option(\"polling_interval_in_milliseconds\", 10)\n"
   ]
  },
  {
   "cell_type": "code",
   "execution_count": null,
   "metadata": {},
   "outputs": [],
   "source": [
    "%matplotlib inline\n",
    "from matplotlib import pyplot\n",
    "import numpy"
   ]
  },
  {
   "cell_type": "markdown",
   "metadata": {},
   "source": [
    "In many community codes and for a lot of algorithms it makes sense to use units for which the base units are not (fully) specified. This is often the case when e.g. the equations solved are scale free or for initial conditions where similar models can be scaled to different sizes. Although the quantities involved do not have a specific unit base, they still have a dimension (mass, length etc.). In AMUSE we can use *generic units* in this case. In other words, you can specify if a value has a *mass*, *length* or *time* dimension, or any combination thereof, such as *length* per *time*.\n",
    "\n",
    "First import everything from amuse.lab:"
   ]
  },
  {
   "cell_type": "code",
   "execution_count": null,
   "metadata": {},
   "outputs": [],
   "source": [
    "from amuse.lab import *"
   ]
  },
  {
   "cell_type": "markdown",
   "metadata": {},
   "source": [
    "AMUSE includes two generic unit systems, the **generic_unit_system** is the most general, the **nbody_system** is a special case and always defines the gravitational constant to be `G=1`. For gravity calculations the **nbody_system** module is recommended as this follows the general practice in most n-body codes.\n",
    "\n",
    "The generic units are defined in the **generic_system** and **nbody_system** modules."
   ]
  },
  {
   "cell_type": "code",
   "execution_count": null,
   "metadata": {},
   "outputs": [],
   "source": [
    "print(10.0 | nbody_system.length)\n",
    "print(10.0 | generic_unit_system.length)"
   ]
  },
  {
   "cell_type": "markdown",
   "metadata": {},
   "source": [
    "Quantities with generic units work exactly the same as quantities with normal (**S.I.**) units."
   ]
  },
  {
   "cell_type": "code",
   "execution_count": null,
   "metadata": {},
   "outputs": [],
   "source": [
    "cluster_mass = 1.0 | generic_unit_system.length\n",
    "mean_speed = 0.1 | generic_unit_system.length / generic_unit_system.time\n",
    "print(mean_speed * cluster_mass)"
   ]
  },
  {
   "cell_type": "markdown",
   "metadata": {},
   "source": [
    "\n",
    "Generic quantities are very useful and can be applied almost everywhere in AMUSE. \n",
    "\n",
    "To convert to a specific system of units you'll need a converter. For nbody units you can create a converter like this:"
   ]
  },
  {
   "cell_type": "code",
   "execution_count": null,
   "metadata": {},
   "outputs": [],
   "source": [
    "converter = nbody_system.nbody_to_si(1 | units.MSun, 1 | units.AU)"
   ]
  },
  {
   "cell_type": "markdown",
   "metadata": {},
   "source": [
    "An ``nbody_system`` converter always needs two orthogonal quantities apart from `G=1` which is already defined. These quantities can be simple (like 1 solar mass) or combined (like  10 km/s). The two quantities fix the scaling and will be used to convert to and from the nbody units:"
   ]
  },
  {
   "cell_type": "code",
   "execution_count": null,
   "metadata": {},
   "outputs": [],
   "source": [
    "print(\"Mass of the sun, scaled:\", converter.to_nbody(1 | units.MSun))\n",
    "print(\"10 nbody masses, in S.I.:\", converter.to_si(10 | nbody_system.mass))\n",
    "print(\"1 nbody time, in S.I:\", converter.to_si(1 | nbody_system.time).in_(units.yr))\n",
    "print(\"10 km/s, in nbody:\", converter.to_nbody(10.0 | units.km / units.s))"
   ]
  },
  {
   "cell_type": "markdown",
   "metadata": {},
   "source": [
    "For the generic unit converter, you can specify up to 7 quantities (as there are 7 base properties). Any combination of quantities is possible as long as it results in a orthogonal set of converters. "
   ]
  },
  {
   "cell_type": "code",
   "execution_count": null,
   "metadata": {},
   "outputs": [],
   "source": [
    "converter = generic_unit_converter.ConvertBetweenGenericAndSiUnits(1 | units.MSun, 1 | units.AU, constants.G)\n",
    "print(\"Mass of the sun, scaled:\", converter.to_nbody(1 | units.MSun))\n",
    "print(\"10 generic masses, in S.I.:\", converter.to_si(10 | nbody_system.mass))\n",
    "print(\"1 generic time, in S.I:\", converter.to_si(1 | nbody_system.time).in_(units.yr))\n",
    "print(\"10 km/s, in generic:\", converter.to_nbody(10.0 | units.km / units.s))"
   ]
  },
  {
   "cell_type": "code",
   "execution_count": null,
   "metadata": {},
   "outputs": [],
   "source": [
    "converter = generic_unit_converter.ConvertBetweenGenericAndSiUnits(1 | units.MSun, 1 | units.AU, 1 | units.yr)\n",
    "print(\"Mass of the sun, scaled:\", converter.to_nbody(1 | units.MSun))\n",
    "print(\"10 generic masses, in S.I.:\", converter.to_si(10 | nbody_system.mass))\n",
    "print(\"1 generic time, in S.I:\", converter.to_si(1 | nbody_system.time).in_(units.yr))\n",
    "print(\"10 km/s, in generic:\", converter.to_nbody(10.0 | units.km / units.s))"
   ]
  },
  {
   "cell_type": "markdown",
   "metadata": {},
   "source": [
    "Specifying a length twice or specifying a speed and a length and a time will result in an error. "
   ]
  },
  {
   "cell_type": "code",
   "execution_count": null,
   "metadata": {},
   "outputs": [],
   "source": [
    "generic_unit_converter.ConvertBetweenGenericAndSiUnits(\n",
    "    1 | units.MSun, \n",
    "    1 | units.AU, \n",
    "    1 | units.m,\n",
    ")"
   ]
  },
  {
   "cell_type": "markdown",
   "metadata": {},
   "source": [
    "As an example, the following defines a converter for Planck units:"
   ]
  },
  {
   "cell_type": "code",
   "execution_count": null,
   "metadata": {},
   "outputs": [],
   "source": [
    "natural_units_convert = generic_unit_converter.ConvertBetweenGenericAndSiUnits(\n",
    "    constants.c,\n",
    "    constants.G,\n",
    "    constants.hbar,\n",
    "    1/(4*numpy.pi*constants.eps0),\n",
    "    constants.kB,\n",
    ")\n",
    "\n",
    "M = 1 | generic_unit_system.mass\n",
    "T = 1 | generic_unit_system.time\n",
    "L = 1 | generic_unit_system.length\n",
    "Q = 1 | generic_unit_system.charge\n",
    "THETA = 1 | generic_unit_system.temperature\n",
    "\n",
    "print(natural_units_convert.to_si(M).in_(units.kg))\n",
    "print(natural_units_convert.to_si(T).in_(units.s))\n",
    "print(natural_units_convert.to_si(L).in_(units.m))\n",
    "print(natural_units_convert.to_si(Q).in_(units.C))\n",
    "print(natural_units_convert.to_si(THETA).in_(units.K))"
   ]
  },
  {
   "cell_type": "markdown",
   "metadata": {},
   "source": [
    "Of course unit commensurability is still enforced:"
   ]
  },
  {
   "cell_type": "code",
   "execution_count": null,
   "metadata": {},
   "outputs": [],
   "source": [
    "print((10.0 | nbody_system.length) + (10.0 | generic_unit_system.time))"
   ]
  }
 ],
 "metadata": {
  "kernelspec": {
   "display_name": "Python 3 (ipykernel)",
   "language": "python",
   "name": "python3"
  },
  "language_info": {
   "codemirror_mode": {
    "name": "ipython",
    "version": 3
   },
   "file_extension": ".py",
   "mimetype": "text/x-python",
   "name": "python",
   "nbconvert_exporter": "python",
   "pygments_lexer": "ipython3",
   "version": "3.8.13"
  }
 },
 "nbformat": 4,
 "nbformat_minor": 4
}
