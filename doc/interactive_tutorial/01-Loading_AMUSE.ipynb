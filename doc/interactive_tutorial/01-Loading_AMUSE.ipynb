{
 "cells": [
  {
   "cell_type": "code",
   "execution_count": null,
   "metadata": {
    "jupyter": {
     "source_hidden": true
    },
    "tags": []
   },
   "outputs": [],
   "source": [
    "%%bash\n",
    "# preamble script to check and install AMUSE components if necessary\n",
    "\n",
    "# required packages for this tutorial:\n",
    "PACKAGES=\"mpi4py amuse-framework amuse-bhtree\"\n",
    "# skip in case a full development install is present\n",
    "pip show amuse-devel && exit 0\n",
    "for package in ${PACKAGES} \n",
    "do\n",
    "  pip show ${package} || pip install ${package}\n",
    "done"
   ]
  },
  {
   "cell_type": "code",
   "execution_count": null,
   "metadata": {
    "jupyter": {
     "source_hidden": true
    },
    "tags": []
   },
   "outputs": [],
   "source": [
    "# the following fixes are highly recommended\n",
    "\n",
    "#allow oversubscription for openMPI\n",
    "import os\n",
    "os.environ[\"OMPI_MCA_rmaps_base_oversubscribe\"]=\"true\"\n",
    "\n",
    "# use lower cpu resources for idle codes\n",
    "from amuse.support import options\n",
    "options.GlobalOptions.instance().override_value_for_option(\"polling_interval_in_milliseconds\", 10)\n"
   ]
  },
  {
   "cell_type": "markdown",
   "metadata": {},
   "source": [
    "AMUSE uses numpy for numerical data and matplotlib to plot, we start by importing them:"
   ]
  },
  {
   "cell_type": "code",
   "execution_count": 1,
   "metadata": {},
   "outputs": [],
   "source": [
    "%matplotlib inline\n",
    "from matplotlib import pyplot\n",
    "import numpy"
   ]
  },
  {
   "cell_type": "markdown",
   "metadata": {},
   "source": [
    "The AMUSE framework is divided over several python packages and modules. All these have one common root module: _amuse_. This root defines the namespace of all sub-packages and modules. You can load the amuse module with:"
   ]
  },
  {
   "cell_type": "code",
   "execution_count": 2,
   "metadata": {},
   "outputs": [],
   "source": [
    "import amuse"
   ]
  },
  {
   "cell_type": "markdown",
   "metadata": {},
   "source": [
    "However the _amuse_ module is mostly empty, as you can see when you try 'Tab' completion on the amuse module or run dir(amuse)"
   ]
  },
  {
   "cell_type": "code",
   "execution_count": 3,
   "metadata": {},
   "outputs": [
    {
     "data": {
      "text/plain": [
       "['NoConfig',\n",
       " '__builtins__',\n",
       " '__cached__',\n",
       " '__doc__',\n",
       " '__file__',\n",
       " '__loader__',\n",
       " '__name__',\n",
       " '__package__',\n",
       " '__path__',\n",
       " '__spec__',\n",
       " 'config',\n",
       " 'numpy',\n",
       " 'numpy_fix',\n",
       " 'support']"
      ]
     },
     "execution_count": 3,
     "metadata": {},
     "output_type": "execute_result"
    }
   ],
   "source": [
    "dir(amuse)"
   ]
  },
  {
   "cell_type": "markdown",
   "metadata": {},
   "source": [
    "The main body of the AMUSE framework is divided over several packages, each subdivided into more packages and modules."
   ]
  },
  {
   "cell_type": "markdown",
   "metadata": {},
   "source": [
    "### units ###\n",
    "\n",
    "A package to work with quantities and units. All calculations in AMUSE are done with quantities having units. These quantities and their units are implemented as python classes and can be used almost everywere you would normaly use a number (or a `numpy` array). In the next tutorial we will come back to the units, for now we will show a simple example "
   ]
  },
  {
   "cell_type": "code",
   "execution_count": 4,
   "metadata": {},
   "outputs": [],
   "source": [
    "from amuse.units import units\n",
    "from amuse.units import constants"
   ]
  },
  {
   "cell_type": "code",
   "execution_count": 5,
   "metadata": {},
   "outputs": [
    {
     "data": {
      "text/plain": [
       "quantity<9.79809335610421 m * s**-2>"
      ]
     },
     "execution_count": 5,
     "metadata": {},
     "output_type": "execute_result"
    }
   ],
   "source": [
    "constants.G * (5.972e24 | units.kg) /  (6378.1 | units.km )**2"
   ]
  },
  {
   "cell_type": "markdown",
   "metadata": {},
   "source": [
    "### datamodel ###\n",
    "\n",
    "All astrophysical bodies (stars, clouds, planets etc) are modelled with sets of particles or on grids. These sets and grids are defined in the _datamodel_ package. You will see these used everywhere in amuse and in several tutorials we will cover them in more detail. "
   ]
  },
  {
   "cell_type": "code",
   "execution_count": 6,
   "metadata": {},
   "outputs": [
    {
     "name": "stdout",
     "output_type": "stream",
     "text": [
      "                 key         mass\n",
      "                   -   1e+21 * kg\n",
      "====================  ===========\n",
      "16568001987451464039    6.419e+02\n",
      " 7207579071768592374    4.868e+03\n",
      " 2593871659432541062    5.974e+03\n",
      "12625977258096592293    1.024e+05\n",
      "17547242889775356555    8.683e+04\n",
      " 3006279325155648284    5.685e+05\n",
      " 3570298971428347869    1.899e+06\n",
      "====================  ===========\n"
     ]
    }
   ],
   "source": [
    "from amuse.datamodel import Particles\n",
    "solar_system_planets = Particles(7)\n",
    "solar_system_planets.mass = [641.85, 4868.5, 5973.6, 102430, 86832, 568460, 1898600] | (1e21 * units.kg)\n",
    "print(solar_system_planets)"
   ]
  },
  {
   "cell_type": "markdown",
   "metadata": {},
   "source": [
    "### io ###\n",
    "\n",
    "*(this example depends on the datamodel example earlier on this page, if you get a NameError please rerun that cell)*\n",
    "\n",
    "Saving and loading models is an important feature in AMUSE. AMUSE defines it's own format and supports a number of common file formats often used in astro-physical codes. All saving all loading is supported through two functions: "
   ]
  },
  {
   "cell_type": "code",
   "execution_count": 7,
   "metadata": {},
   "outputs": [
    {
     "name": "stdout",
     "output_type": "stream",
     "text": [
      "                 key         mass\n",
      "                   -   1e+21 * kg\n",
      "====================  ===========\n",
      " 8306438798998442450    6.419e+02\n",
      " 8953103678612694330    4.868e+03\n",
      " 5729276014273372650    5.974e+03\n",
      " 3011160290541337866    1.024e+05\n",
      "10218094749956874519    8.683e+04\n",
      " 9955606421551439791    5.685e+05\n",
      " 2508219077035151455    1.899e+06\n",
      "====================  ===========\n"
     ]
    }
   ],
   "source": [
    "from amuse import io\n",
    "io.write_set_to_file(solar_system_planets, \"solar.hdf5\")\n",
    "print(io.read_set_from_file(\"solar.hdf5\"))"
   ]
  },
  {
   "cell_type": "markdown",
   "metadata": {},
   "source": [
    "All data is written to the current working directory, which is:"
   ]
  },
  {
   "cell_type": "code",
   "execution_count": 8,
   "metadata": {},
   "outputs": [
    {
     "data": {
      "text/plain": [
       "'/Users/srieder/Code/amuse/doc/interactive_tutorial'"
      ]
     },
     "execution_count": 8,
     "metadata": {},
     "output_type": "execute_result"
    }
   ],
   "source": [
    "import os\n",
    "os.getcwd()"
   ]
  },
  {
   "cell_type": "markdown",
   "metadata": {},
   "source": [
    "### community ###\n",
    "\n",
    "This packages contains all the communtity codes. All software integrated into AMUSE, (N-body, stellar evolution, hydrodynamics, radiative transfer and other codes) is called a _community_ code in AMUSE. Each community code is defined in a separate sub-package and every sub-package contains at least one module called `interface`.\n",
    "You can load a community code with (note the capitalisation):\n",
    "```python\n",
    "from amuse.community.<codename>.interface import <Codeclass>\n",
    "```\n",
    "In later tutorials we will learn more about the codes and how to interact with each."
   ]
  },
  {
   "cell_type": "code",
   "execution_count": 9,
   "metadata": {},
   "outputs": [
    {
     "name": "stdout",
     "output_type": "stream",
     "text": [
      "<class 'amuse.community.bhtree.interface.BHTree'>\n"
     ]
    }
   ],
   "source": [
    "from amuse.community.bhtree.interface import Bhtree\n",
    "print(Bhtree)"
   ]
  },
  {
   "cell_type": "markdown",
   "metadata": {},
   "source": [
    "### ic ###\n",
    "The Initial Conditions _ic_ package provides a small set of often used algorithms to create an initial particle set or grid. The current set of supported algorithms is small but provides good examples for further extension. "
   ]
  },
  {
   "cell_type": "code",
   "execution_count": 10,
   "metadata": {},
   "outputs": [
    {
     "name": "stdout",
     "output_type": "stream",
     "text": [
      "1.0 mass\n"
     ]
    }
   ],
   "source": [
    "from amuse.ic import plummer\n",
    "particles = plummer.new_plummer_model(25)\n",
    "print(particles.mass.sum())"
   ]
  },
  {
   "cell_type": "markdown",
   "metadata": {},
   "source": [
    "### couple ###\n",
    "\n",
    "Eventually you will want to connect different codes to simulate a coupled problem. As AMUSE is written in Python, you can easily write your own coupling strategy but in most cases you do not need to do this. This package contains several predefined coupling strategies, two of which we will cover in a later tutorial."
   ]
  },
  {
   "cell_type": "code",
   "execution_count": 11,
   "metadata": {},
   "outputs": [],
   "source": [
    "from amuse.couple import bridge"
   ]
  },
  {
   "cell_type": "markdown",
   "metadata": {},
   "source": [
    "### ext ###\n",
    "During development of AMUSE we have created several general purpose algorithms that do not fall in any of the above categories. All these are implemented in the modules of the _ext_ package. These algorithms are very diverse and deal with model conversions (from a grid model to particle sets), post-processing (graphing, creating blender models) to handling of special conditions in a model  (sinks and sources). Some of these algorithms will evetually move to the _ic_ or _couple_ modules. We will encounter some _ext_ modules in these tutorials and you will see more use in the examples.\n"
   ]
  },
  {
   "cell_type": "code",
   "execution_count": 12,
   "metadata": {},
   "outputs": [],
   "source": [
    "from amuse.ext import grid_to_sph"
   ]
  },
  {
   "cell_type": "markdown",
   "metadata": {},
   "source": [
    "### all in one ###\n",
    "\n",
    "Most amuse code can be loaded with importing one module, the _lab_ module. AMUSE contains a lot of sub-packages and modules, it is hard too learn and remember all these. We provide one module that imports most code from the other modules, as an easy interface to the AMUSE framework."
   ]
  },
  {
   "cell_type": "code",
   "execution_count": 13,
   "metadata": {},
   "outputs": [
    {
     "name": "stdout",
     "output_type": "stream",
     "text": [
      "                 key         mass       radius           vx           vy           vz            x            y            z\n",
      "                   -         mass       length  length / time  length / time  length / time       length       length       length\n",
      "====================  ===========  ===========  ===========  ===========  ===========  ===========  ===========  ===========\n",
      " 6891505399092943826    1.000e-01    0.000e+00   -1.687e-01   -2.299e-01    6.470e-01    9.172e-02   -2.919e-01   -2.517e-01\n",
      " 9236984259963745259    1.000e-01    0.000e+00    1.109e-01   -3.582e-01    2.355e-01   -1.173e+00    1.264e+00    3.269e-01\n",
      "12473597854400827686    1.000e-01    0.000e+00   -3.864e-02    3.738e-01    6.397e-01    2.299e-01   -3.756e-01   -2.306e-01\n",
      " 8748970469354843124    1.000e-01    0.000e+00   -3.417e-01   -9.798e-01    1.653e-01   -4.780e-01   -3.624e-01    3.556e-01\n",
      "10514419277732552049    1.000e-01    0.000e+00   -1.342e-01    4.418e-01   -1.722e-02    6.351e-01   -5.376e-01    1.250e-01\n",
      " 6036025414792313796    1.000e-01    0.000e+00    4.829e-01    4.579e-01   -6.229e-01    6.984e-02    4.085e-01   -5.031e-01\n",
      " 6711297076635059272    1.000e-01    0.000e+00    2.915e-01    5.380e-01   -2.075e-01   -6.701e-02   -8.349e-02   -1.114e-01\n",
      "11256866738540984311    1.000e-01    0.000e+00   -4.911e-01    1.724e-01   -4.169e-01    6.114e-01   -9.658e-01   -1.119e-01\n",
      " 3982179690593507213    1.000e-01    0.000e+00    3.654e-01    2.989e-02   -3.752e-04   -9.381e-02    5.013e-01    4.973e-01\n",
      " 6099187176598656541    1.000e-01    0.000e+00   -7.631e-02   -4.459e-01   -4.226e-01    1.736e-01    4.434e-01   -9.617e-02\n",
      "====================  ===========  ===========  ===========  ===========  ===========  ===========  ===========  ===========\n"
     ]
    }
   ],
   "source": [
    "from amuse.lab import *\n",
    "print(new_plummer_model(10))"
   ]
  }
 ],
 "metadata": {
  "kernelspec": {
   "display_name": "Python 3 (ipykernel)",
   "language": "python",
   "name": "python3"
  },
  "language_info": {
   "codemirror_mode": {
    "name": "ipython",
    "version": 3
   },
   "file_extension": ".py",
   "mimetype": "text/x-python",
   "name": "python",
   "nbconvert_exporter": "python",
   "pygments_lexer": "ipython3",
   "version": "3.8.13"
  }
 },
 "nbformat": 4,
 "nbformat_minor": 4
}
