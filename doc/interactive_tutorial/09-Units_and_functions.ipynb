{
 "cells": [
  {
   "cell_type": "code",
   "execution_count": null,
   "metadata": {
    "jupyter": {
     "source_hidden": true
    },
    "tags": []
   },
   "outputs": [],
   "source": [
    "%%bash\n",
    "# preamble script to check and install AMUSE components if necessary\n",
    "\n",
    "# required packages for this tutorial:\n",
    "PACKAGES=\"amuse-framework amuse-sse amuse-seba\"\n",
    "# skip in case a full development install is present\n",
    "pip show amuse-devel && exit 0\n",
    "for package in ${PACKAGES} \n",
    "do\n",
    "  pip show ${package} || pip install ${package}\n",
    "done"
   ]
  },
  {
   "cell_type": "code",
   "execution_count": null,
   "metadata": {
    "jupyter": {
     "source_hidden": true
    },
    "tags": []
   },
   "outputs": [],
   "source": [
    "# the following fixes are highly recommended\n",
    "\n",
    "#allow oversubscription for openMPI\n",
    "import os\n",
    "os.environ[\"OMPI_MCA_rmaps_base_oversubscribe\"]=\"true\"\n",
    "\n",
    "# use lower cpu resources for idle codes\n",
    "from amuse.support import options\n",
    "options.GlobalOptions.instance().override_value_for_option(\"polling_interval_in_milliseconds\", 10)\n"
   ]
  },
  {
   "cell_type": "markdown",
   "metadata": {},
   "source": [
    "# AMUSE units: the blackbody spectrum\n",
    "\n",
    "this is a small exercise to familiarize yourself with AMUSE units usage, learn to write simple AMUSE utility functions."
   ]
  },
  {
   "cell_type": "markdown",
   "metadata": {},
   "source": [
    "## (1) first some definitions:\n",
    "\n",
    "1. check that you understand the following definitions \n",
    "2. there is at least one bug below - if you dont find it don't worry about it just yet!\n",
    "3. what are the differences or similarities between an AMUSE unit, quantity and constant?"
   ]
  },
  {
   "cell_type": "code",
   "execution_count": null,
   "metadata": {},
   "outputs": [],
   "source": [
    "import numpy\n",
    "\n",
    "from amuse.units import units,constants\n",
    "\n",
    "pi = numpy.pi\n",
    "e = numpy.e\n",
    "kB = constants.kB\n",
    "h = constants.h\n",
    "c = constants.c\n",
    "Ry = constants.Rydberg_constant\n",
    "sigma = constants.Stefan_hyphen_Boltzmann_constant\n",
    "\n",
    "def B_nu(nu,t):\n",
    "    return 2*h*nu**4/c**2 * 1./ (e**(h*nu/kB/t)-1)\n",
    "\n",
    "def B_lambda(l,t):\n",
    "    return 2*h*c**2/l**5*1./(e**(h*c/(l*kB*t))-1)\n",
    "\n",
    "def energy(nu):\n",
    "    return constants.h*nu\n",
    "  \n",
    "def freq(energy):\n",
    "    return energy/constants.h\n",
    "\n",
    "def freq_from_wavenumber(k):\n",
    "    return c*k\n",
    "\n",
    "def wavelength(nu):\n",
    "    return c/nu\n",
    "\n",
    "def freq_from_wavelength(l):\n",
    "    return c/l\n",
    "  \n",
    "def wiens_lambda_max(T):\n",
    "    b = 2897768.6 | units.nano(units.m)* units.K\n",
    "    return b/T\n",
    "\n",
    "def wiens_T_from_lambda_max(l):\n",
    "    b = 2897768.6 | units.nano(units.m)* units.K\n",
    "    return b/l\n",
    "    \n",
    "def total_bolometric_flux(T):\n",
    "    return sigma*T**4  "
   ]
  },
  {
   "cell_type": "markdown",
   "metadata": {},
   "source": [
    "## (2) using the above, calculate the following:\n",
    "\n",
    "1. the wavelength of the maximum for a T=10000K blackbody spectrum\n",
    "2. the bolometric flux for a T=10000K blackbody spectrum\n",
    "3. the total luminosity of the sun (Teff = 5780 K), in units.LSun!"
   ]
  },
  {
   "cell_type": "code",
   "execution_count": null,
   "metadata": {},
   "outputs": [],
   "source": [
    "pass"
   ]
  },
  {
   "cell_type": "markdown",
   "metadata": {},
   "source": [
    "## (3) energy flux calculation\n",
    "\n",
    "1. what does the energy_flux function below do?\n",
    "2. what are the T, lowfreq, N arguments? \n",
    "3. calculate the flux for some values of T (like 5500 K, 10000K, 50000K), try to convert to W/m**2, check against total bolometric flux above,\n",
    "4. (spoiler alert) if you had spotted the bug: repeat 3. using the original buggy version of B_nu (with nu^4 instead of nu^3)..\n",
    "5. consider the numpy.trapz call: observe the use of .number and .unit, can you understand what this does?\n",
    "6. make a copy of the function and try to remove the .number and .unit - does the function still work? Can you think of a reason to use the form given here? (hint: what are b and b.number?)"
   ]
  },
  {
   "cell_type": "code",
   "execution_count": null,
   "metadata": {},
   "outputs": [],
   "source": [
    "def energy_flux(T, lowfreq=0. | units.s**-1 , N=10000):\n",
    "    nu = (numpy.arange(1., N+1)) / N * (kB * T) / h * 25. + lowfreq\n",
    "    b = pi * B_nu(nu, T)\n",
    "    return numpy.trapz(b.number, x=nu.number) | (b.unit * nu.unit)"
   ]
  },
  {
   "cell_type": "code",
   "execution_count": null,
   "metadata": {},
   "outputs": [],
   "source": [
    "pass"
   ]
  },
  {
   "cell_type": "markdown",
   "metadata": {},
   "source": [
    "## (4) the photon flux\n",
    "\n",
    "1. write a function that calculates the photon flux, with an optional lower frequency bound\n",
    "2. what would the lower bound have to be to calculate the ionizing flux?"
   ]
  },
  {
   "cell_type": "code",
   "execution_count": null,
   "metadata": {},
   "outputs": [],
   "source": [
    "def photon_flux():\n",
    "    pass"
   ]
  },
  {
   "cell_type": "markdown",
   "metadata": {},
   "source": [
    "## (5) stellar evolution\n",
    "\n",
    "1. instantiate a stellar evolution code (e.g. SeBa or SSE), and generate a stellar model for a 30. MSun star\n",
    "2. print out its attributes\n",
    "3. write a function that calculates the luminosity in ionizing photons Lion for a star (assuming of course it radiates like a blackbody!)\n",
    "4. make a plot of Lion vs time"
   ]
  },
  {
   "cell_type": "code",
   "execution_count": null,
   "metadata": {},
   "outputs": [],
   "source": [
    "from amuse.community.seba.interface import Seba\n",
    "# from amuse.community.sse.interface import Sse\n",
    "from amuse.datamodel import Particle"
   ]
  }
 ],
 "metadata": {
  "kernelspec": {
   "display_name": "Python 3 (ipykernel)",
   "language": "python",
   "name": "python3"
  },
  "language_info": {
   "codemirror_mode": {
    "name": "ipython",
    "version": 3
   },
   "file_extension": ".py",
   "mimetype": "text/x-python",
   "name": "python",
   "nbconvert_exporter": "python",
   "pygments_lexer": "ipython3",
   "version": "3.8.13"
  }
 },
 "nbformat": 4,
 "nbformat_minor": 4
}
