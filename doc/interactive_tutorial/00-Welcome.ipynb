{
 "metadata": {
  "name": "00  - Welcome"
 },
 "nbformat": 3,
 "nbformat_minor": 0,
 "worksheets": [
  {
   "cells": [
    {
     "cell_type": "markdown",
     "metadata": {},
     "source": [
      "Welcome to the ***AMUSE binary release***.  This release contains a working version of AMUSE with some small substractions and additions. Most notable addition is the current web-page you are viewing. This is the [IPython Notebook web-application](http://ipython.org/ipython-doc/dev/interactive/htmlnotebook.html \"IPython Notebook documentation\"). With this application you can create, edit and run python scripts on your local computer. We will be using it for these AMUSE tutorials, but you can use it for all your interactive explorations of Python and it's many libraries, scripts and applications. "
     ]
    },
    {
     "cell_type": "markdown",
     "metadata": {},
     "source": [
      "Using the notebook interface is not very difficult, but you''ll need to get acquainted with some keyboard shortcuts.\n",
      "To perform a simple Python expression, type it inside a ***code*** cell and press 'Shift-Enter':"
     ]
    },
    {
     "cell_type": "code",
     "collapsed": false,
     "input": [
      "6.6738e-11  * 5.972e24 /  6378.1**2"
     ],
     "language": "python",
     "metadata": {},
     "outputs": []
    },
    {
     "cell_type": "markdown",
     "metadata": {},
     "source": [
      "The application also supports _keyboard completion_. If you know the first letters of a function or a class, IPython can lookup the rest. For example type 'pri' and press the 'Tab' key:"
     ]
    },
    {
     "cell_type": "code",
     "collapsed": false,
     "input": [
      "pri"
     ],
     "language": "python",
     "metadata": {},
     "outputs": []
    },
    {
     "cell_type": "markdown",
     "metadata": {},
     "source": [
      "This also works for modules, just enter an import statement and press tab on the module name:"
     ]
    },
    {
     "cell_type": "code",
     "collapsed": false,
     "input": [
      "from amuse import l"
     ],
     "language": "python",
     "metadata": {},
     "outputs": []
    },
    {
     "cell_type": "markdown",
     "metadata": {},
     "source": [
      "The 'Tab' key can also be used to get documentation for a function. The documentation will be shown when you press the 'Tab' key just after a open  parenthesis '('. For example type 'sort(' and press the 'Tab' key:"
     ]
    },
    {
     "cell_type": "code",
     "collapsed": false,
     "input": [
      "sort("
     ],
     "language": "python",
     "metadata": {},
     "outputs": []
    },
    {
     "cell_type": "markdown",
     "metadata": {},
     "source": [
      "There are a few more keyboard shortcuts. To find out which, you can press 'ctrl-m h' or navigate to the 'Keyboard Shortcuts' item in the Help menu."
     ]
    }
   ],
   "metadata": {}
  }
 ]
}
