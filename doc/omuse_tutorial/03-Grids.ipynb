{
 "cells": [
  {
   "cell_type": "markdown",
   "metadata": {},
   "source": [
    "Grids\n",
    "-----\n",
    "\n",
    "For OMUSE, Grids are probably the most important data model for simulation data. AMUSE provides two general data models: *particle sets* and *grid*. Particle sets are collections of points with attributes, where points (and sets) can be added and removed. Grids are inmutable in the number of grid points in any direction. You cannot add a gridpoint like you add a particle in a particle set, instead you define the number of points in each direction on creation of the grid and amuse will create the grid points."
   ]
  },
  {
   "cell_type": "code",
   "execution_count": null,
   "metadata": {
    "collapsed": false
   },
   "outputs": [],
   "source": [
    "%matplotlib inline\n",
    "from omuse.units import units, constants\n",
    "from amuse.datamodel import Grid"
   ]
  },
  {
   "cell_type": "markdown",
   "metadata": {},
   "source": [
    "Let's start by creating a simple 3 by 4 grid."
   ]
  },
  {
   "cell_type": "code",
   "execution_count": null,
   "metadata": {
    "collapsed": false
   },
   "outputs": [],
   "source": [
    "grid = Grid(3,4)\n",
    "print grid"
   ]
  },
  {
   "cell_type": "markdown",
   "metadata": {},
   "source": [
    "Different types are are available: `CartesianGrid`, `RegularGrid`, `RectilinearGrid`, `StructuredGrid`, `UnstructuredGrid`. These are generated most easily by using the corresponding factory functions:"
   ]
  },
  {
   "cell_type": "code",
   "execution_count": null,
   "metadata": {
    "collapsed": true
   },
   "outputs": [],
   "source": [
    "from amuse.datamodel import new_regular_grid"
   ]
  },
  {
   "cell_type": "code",
   "execution_count": null,
   "metadata": {
    "collapsed": false
   },
   "outputs": [],
   "source": [
    "grid = new_regular_grid((10,10), (1.| units.m, 2.| units.m))\n",
    "print grid\n",
    "print grid.x"
   ]
  },
  {
   "cell_type": "markdown",
   "metadata": {},
   "source": [
    "The returned positions are the centers of the gridpoints, we can make a small plot to show where the grid centers are positioned."
   ]
  },
  {
   "cell_type": "code",
   "execution_count": null,
   "metadata": {
    "collapsed": false
   },
   "outputs": [],
   "source": [
    "from matplotlib import pyplot\n",
    "grid = new_regular_grid((3,4),(1|units.m, 2|units.m))\n",
    "pyplot.scatter(\n",
    "    grid.x.value_in(units.m),\n",
    "    grid.y.value_in(units.m)\n",
    ")\n",
    "pyplot.xlim(0,1)\n",
    "pyplot.ylim(0,2)"
   ]
  },
  {
   "cell_type": "markdown",
   "metadata": {},
   "source": [
    "You can index a grid in two ways, direct indexing on the grid or indexing on an attribute. Direct indexing on a grid can be more efficient as no data is retrieved until you actually request an attribute. If you first request an attribute and then do the indexing, all data for the attribute is retrieved and returned first as a vector quantity (or numpy array), next a subselection is made using the indexing routines. Both method should return the same quantities."
   ]
  },
  {
   "cell_type": "code",
   "execution_count": null,
   "metadata": {
    "collapsed": false
   },
   "outputs": [],
   "source": [
    "gridpoint=grid[1,1]\n",
    "print gridpoint\n",
    "print gridpoint.position\n",
    "print grid.position[1,1]\n"
   ]
  },
  {
   "cell_type": "markdown",
   "metadata": {},
   "source": [
    "In this case the attribute `position` is a predefined attribute on the grid, which returns the x,y position. Such an attribute can also be set to, e.g. move around a grid if needed:"
   ]
  },
  {
   "cell_type": "code",
   "execution_count": null,
   "metadata": {
    "collapsed": false
   },
   "outputs": [],
   "source": [
    "grid.position -= [0.5,1.0] | units.m\n",
    "print gridpoint.position"
   ]
  },
  {
   "cell_type": "markdown",
   "metadata": {
    "collapsed": false
   },
   "source": [
    "Sub grids\n",
    "---------\n",
    "\n",
    "Indexing on the grid also serves to define subgrids, which are views on the parent grid (this works similar as for numpy): "
   ]
  },
  {
   "cell_type": "code",
   "execution_count": null,
   "metadata": {
    "collapsed": false
   },
   "outputs": [],
   "source": [
    "subgrid=grid[0:2,1:3]\n",
    "pyplot.scatter(\n",
    "    grid.x.value_in(units.m),\n",
    "    grid.y.value_in(units.m)\n",
    ")\n",
    "pyplot.scatter(\n",
    "    subgrid.x.value_in(units.m),\n",
    "    subgrid.y.value_in(units.m), color='r'\n",
    ")\n",
    "pyplot.xlim(0,1)\n",
    "pyplot.ylim(0,2)"
   ]
  },
  {
   "cell_type": "markdown",
   "metadata": {},
   "source": [
    "You can set attributes on the sub grid. This changes the parent grid:"
   ]
  },
  {
   "cell_type": "code",
   "execution_count": null,
   "metadata": {
    "collapsed": false
   },
   "outputs": [],
   "source": [
    "subgrid.density= 1. | units.kg/units.m**3\n",
    "print subgrid\n",
    "print grid\n",
    "print grid.density"
   ]
  },
  {
   "cell_type": "markdown",
   "metadata": {},
   "source": [
    "If you want to extract a subgrid use `copy`:"
   ]
  },
  {
   "cell_type": "code",
   "execution_count": null,
   "metadata": {
    "collapsed": false
   },
   "outputs": [],
   "source": [
    "subgrid2=grid[0:2,1:3].copy()\n",
    "subgrid2.density*=10\n",
    "print subgrid2.density\n",
    "print grid.density"
   ]
  },
  {
   "cell_type": "code",
   "execution_count": null,
   "metadata": {
    "collapsed": true
   },
   "outputs": [],
   "source": []
  }
 ],
 "metadata": {
  "kernelspec": {
   "display_name": "Python 2",
   "language": "python",
   "name": "python2"
  },
  "language_info": {
   "codemirror_mode": {
    "name": "ipython",
    "version": 2
   },
   "file_extension": ".py",
   "mimetype": "text/x-python",
   "name": "python",
   "nbconvert_exporter": "python",
   "pygments_lexer": "ipython2",
   "version": "2.7.9"
  }
 },
 "nbformat": 4,
 "nbformat_minor": 0
}
