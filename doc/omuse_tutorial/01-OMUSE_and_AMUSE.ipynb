{
 "cells": [
  {
   "cell_type": "markdown",
   "metadata": {},
   "source": [
    "OMUSE is divided over several python packages and modules, amongst which are modules of the base AMUSE framework. AMUSE originates from the astrophysical community, and OMUSE uses the base framework of AMUSE. AMUSE components have a common root module: _amuse_, while OMUSE components have the root _omuse_. This root defines the namespace of all sub-packages and modules. You can load the modules with:"
   ]
  },
  {
   "cell_type": "code",
   "execution_count": null,
   "metadata": {},
   "outputs": [],
   "source": [
    "import amuse\n",
    "import omuse"
   ]
  },
  {
   "cell_type": "markdown",
   "metadata": {},
   "source": [
    "However these module is mostly empty, as you can see when you try 'Tab' completion on the omuse module or run dir(omuse)"
   ]
  },
  {
   "cell_type": "code",
   "execution_count": null,
   "metadata": {},
   "outputs": [],
   "source": [
    "dir(omuse)"
   ]
  },
  {
   "cell_type": "markdown",
   "metadata": {},
   "source": [
    "Oceanographic components (simulation codes, units and utilities) are imported from omuse, while framework functions (data model, io etc) useful for both OMUSE and AMUSE come from amuse."
   ]
  },
  {
   "cell_type": "markdown",
   "metadata": {},
   "source": [
    "### omuse.community ###\n",
    "\n",
    "This packages contains all the oceanographic communtity codes. We refer to a simulation code integrated into OMUSE as a  _community_ code. Each community code is defined in a separate sub-package and every sub-package contains at least one module called `interface`. You can load a community code with: `from omuse.community.<codename>.interface import <codeclass>`. In later tutorials we will learn more about the codes and how to interact with each."
   ]
  },
  {
   "cell_type": "code",
   "execution_count": null,
   "metadata": {},
   "outputs": [],
   "source": [
    "from omuse.community.qgmodel.interface import QGmodel\n",
    "print QGmodel"
   ]
  },
  {
   "cell_type": "markdown",
   "metadata": {},
   "source": [
    "### omuse.units ###\n",
    "\n",
    "A package to work with quantities and units. All calculations in OMUSE are done with quantities having units. These quantities and their units are implemented as python classes and can be used almost everywere you would normaly use a number (or a `numpy` array). In the next tutorial we will come back to the units, for now we will show a simple example "
   ]
  },
  {
   "cell_type": "code",
   "execution_count": null,
   "metadata": {},
   "outputs": [],
   "source": [
    "from omuse.units import units\n",
    "from omuse.units import constants"
   ]
  },
  {
   "cell_type": "code",
   "execution_count": null,
   "metadata": {},
   "outputs": [],
   "source": [
    "print (1 | units.Sv)*(1.|units.day)\n",
    "print units.salt.name"
   ]
  },
  {
   "cell_type": "markdown",
   "metadata": {},
   "source": [
    "### amuse.datamodel ###\n",
    "\n",
    "codes produce data sets, and OMUSE communicates with the codes using structured data sets, for OMUSE these will be mostly grids. The sets and grids are defined in the AMUSE _datamodel_ package. You will see these used everywhere and in several tutorials we will cover them in more detail. "
   ]
  },
  {
   "cell_type": "code",
   "execution_count": null,
   "metadata": {},
   "outputs": [],
   "source": [
    "from amuse.datamodel import new_cartesian_grid\n",
    "grid = new_cartesian_grid( (100,100), 1. | units.m)\n",
    "print grid\n",
    "print grid.cellsize()"
   ]
  },
  {
   "cell_type": "markdown",
   "metadata": {},
   "source": [
    "### amuse.rfi ###\n",
    "\n",
    "The OMUSE framework is written in Python, most codes are written in C or Fortran. In AMUSE the Remote Function Invocation or _rfi_ package implements all classes and tools to call functions on the community codes. The _rfi_ package implements support for communicating over MPI, raw sockets and Ibis. This code is mainly used internally to the framework and in most scripts you will not see it, but you will be using it!"
   ]
  },
  {
   "cell_type": "code",
   "execution_count": null,
   "metadata": {},
   "outputs": [],
   "source": [
    "from amuse.rfi.channel import is_mpd_running\n",
    "print is_mpd_running()"
   ]
  },
  {
   "cell_type": "markdown",
   "metadata": {},
   "source": [
    "### omuse.ext ###\n",
    "\n",
    "In addition to simulation codes, OMUSE contains a number of utilities that are useful when performing calculations on ocean dynamics. These live in omuse.ext."
   ]
  },
  {
   "cell_type": "code",
   "execution_count": null,
   "metadata": {},
   "outputs": [],
   "source": [
    "from omuse.ext import seawater\n",
    "seawater.EOS_UNESCO(1. | units.salt, 10. | units.Celsius)"
   ]
  },
  {
   "cell_type": "markdown",
   "metadata": {},
   "source": [
    "### amuse.io ###\n",
    "\n",
    "Saving and loading models is important. OMUSE defines it's own format and supports importing from common file formats often used in oceanographic codes. All saving all loading is supported through two functions: "
   ]
  },
  {
   "cell_type": "code",
   "execution_count": null,
   "metadata": {},
   "outputs": [],
   "source": [
    "from amuse.io import read_set_from_file, write_set_to_file\n",
    "grid = new_cartesian_grid( (10,10,10), 1. | units.m)\n",
    "write_set_to_file(grid, \"grid.amuse\", \"amuse\",append_to_file=False)\n",
    "grid_read=read_set_from_file(\"grid.amuse\", \"amuse\")\n",
    "print grid_read"
   ]
  },
  {
   "cell_type": "code",
   "execution_count": null,
   "metadata": {},
   "outputs": [],
   "source": []
  }
 ],
 "metadata": {
  "kernelspec": {
   "display_name": "Python 2",
   "language": "python",
   "name": "python2"
  },
  "language_info": {
   "codemirror_mode": {
    "name": "ipython",
    "version": 2
   },
   "file_extension": ".py",
   "mimetype": "text/x-python",
   "name": "python",
   "nbconvert_exporter": "python",
   "pygments_lexer": "ipython2",
   "version": "2.7.13"
  }
 },
 "nbformat": 4,
 "nbformat_minor": 1
}
