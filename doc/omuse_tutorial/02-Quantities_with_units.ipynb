{
 "cells": [
  {
   "cell_type": "markdown",
   "metadata": {},
   "source": [
    "Calculations in OMUSE are done with quantities having units - the interfaces to simulation codes require it even. These quantities and their units are implemented as python classes and can be used almost everywere you would normaly use a number (or a numpy array). \n",
    "\n",
    "The units can be imported from the omuse.units module:"
   ]
  },
  {
   "cell_type": "code",
   "execution_count": null,
   "metadata": {},
   "outputs": [],
   "source": [
    "from omuse.units import units,constants"
   ]
  },
  {
   "cell_type": "markdown",
   "metadata": {},
   "source": [
    "By itself a unit is not so useful, they conform to a unit algebra which can be used to construct new units:"
   ]
  },
  {
   "cell_type": "code",
   "execution_count": null,
   "metadata": {},
   "outputs": [],
   "source": [
    "m2=units.m*units.m\n",
    "cm=units.m/100\n",
    "print m2\n",
    "print cm"
   ]
  },
  {
   "cell_type": "markdown",
   "metadata": {},
   "source": [
    "You can create a *quantity* by typing a number and combining it with a unit using the bar `|` operator."
   ]
  },
  {
   "cell_type": "code",
   "execution_count": null,
   "metadata": {},
   "outputs": [],
   "source": [
    "print 10. | units.kg\n",
    "print 5 | m2"
   ]
  },
  {
   "cell_type": "markdown",
   "metadata": {},
   "source": [
    "Most operations you can do on numbers, you can also perform on quantities. For example, assuming the earth is a sphere, let's calculate some properties:"
   ]
  },
  {
   "cell_type": "code",
   "execution_count": null,
   "metadata": {},
   "outputs": [],
   "source": [
    "earth_radius = 6384 | units.km\n",
    "print \"diameter :\", earth_radius * 2\n",
    "print \"surface area :\", 4.0 * constants.pi * earth_radius**2\n",
    "print \"volume :\", 4.0 / 3.0 * constants.pi * earth_radius**3"
   ]
  },
  {
   "cell_type": "markdown",
   "metadata": {},
   "source": [
    "It is also possible to combine quantities with different units in a calculation. To continue our properties of the earth example, lets calcute it's density:"
   ]
  },
  {
   "cell_type": "code",
   "execution_count": null,
   "metadata": {},
   "outputs": [],
   "source": [
    "earth_mass = 5.97219e24 | units.kg\n",
    "earth_volume = 4.0 / 3.0 * constants.pi * earth_radius**3\n",
    "\n",
    "print \"density :\", earth_mass / earth_volume"
   ]
  },
  {
   "cell_type": "markdown",
   "metadata": {},
   "source": [
    "You will want to interact with other python libraries that simply cannot handle units. For those cases you can convert the quantity into a value of a specific unit:"
   ]
  },
  {
   "cell_type": "code",
   "execution_count": null,
   "metadata": {},
   "outputs": [],
   "source": [
    "print \"earth mass in gram :\", earth_mass.value_in(units.g)"
   ]
  },
  {
   "cell_type": "markdown",
   "metadata": {},
   "source": [
    "Conversion to a different unit is also supported:"
   ]
  },
  {
   "cell_type": "code",
   "execution_count": null,
   "metadata": {},
   "outputs": [],
   "source": [
    "print \"earth mass:\", earth_mass.in_(units.g)"
   ]
  },
  {
   "cell_type": "markdown",
   "metadata": {},
   "source": [
    "Numpy arrays and python lists can also be used to construct quantities. Once converted, the resulting vector quantities support a lot of numpy operations"
   ]
  },
  {
   "cell_type": "code",
   "execution_count": null,
   "metadata": {},
   "outputs": [],
   "source": [
    "masses = [1.,2.,3.] | units.kg\n",
    "print \"sum of masses: \", masses.sum()\n",
    "import numpy\n",
    "numpy.std(masses)"
   ]
  },
  {
   "cell_type": "markdown",
   "metadata": {},
   "source": [
    "You can create your own unit with a new name using the `units.named` function. This functions takes the name of the unit, a symbol for printing and the unit it is based on. You can define a unit to represent the volume of the earth"
   ]
  },
  {
   "cell_type": "code",
   "execution_count": null,
   "metadata": {},
   "outputs": [],
   "source": [
    "earth_volume_unit = units.named('Vol-Earth', 'EarthVol', earth_volume.to_unit())\n",
    "print earth_volume.as_quantity_in(earth_volume_unit)"
   ]
  },
  {
   "cell_type": "markdown",
   "metadata": {},
   "source": [
    "Most operations on a vector quantity are elementwise. For example (As OMUSE uses numpy internally for these operations we refer to the numpy documentation, if you want to learn more):"
   ]
  },
  {
   "cell_type": "code",
   "execution_count": null,
   "metadata": {},
   "outputs": [],
   "source": [
    "sizes = [ 10. , 10. , 20.] | units.cm\n",
    "volumes = sizes**3\n",
    "print \"densities :\", (masses / volumes)"
   ]
  },
  {
   "cell_type": "markdown",
   "metadata": {},
   "source": [
    "Quantities become normal numbers or numpy arrays when the units cancel out in a calcution (You can use this fact, to replace a `value_in` function call with a division):"
   ]
  },
  {
   "cell_type": "code",
   "execution_count": null,
   "metadata": {},
   "outputs": [],
   "source": [
    "print volumes / earth_volume"
   ]
  },
  {
   "cell_type": "markdown",
   "metadata": {},
   "source": [
    "Operations with incompatible units will fail:"
   ]
  },
  {
   "cell_type": "code",
   "execution_count": null,
   "metadata": {},
   "outputs": [],
   "source": [
    "print earth_mass + earth_volume"
   ]
  },
  {
   "cell_type": "markdown",
   "metadata": {},
   "source": [
    "In addition to using the normal (S.I.) based unit system, there are cases where it is useful to be able to communicate \n",
    "with codes that internally use scaleless or under specified units without specifying a definite unit system, but \n",
    "with the advantages of using units (checking for consistency). Although the quantities involved do not have a specific unit base, they still have a dimension (mass, length etc.). In AMUSE we can use *generic units* in this case. In other words, you can specify if a value has a *mass*, *length* or *time* dimension, or any combination thereof, such as *length* per *time* etc."
   ]
  },
  {
   "cell_type": "code",
   "execution_count": null,
   "metadata": {},
   "outputs": [],
   "source": [
    "from amuse.units import generic_unit_system, generic_unit_converter"
   ]
  },
  {
   "cell_type": "markdown",
   "metadata": {},
   "source": [
    "Quantities with generic units work exactly the same as quantities with normal (**S.I.**) units."
   ]
  },
  {
   "cell_type": "code",
   "execution_count": null,
   "metadata": {},
   "outputs": [],
   "source": [
    "m = 1.0 | generic_unit_system.mass\n",
    "v = 0.1 | generic_unit_system.length / generic_unit_system.time\n",
    "print 0.5*m*v**2\n",
    "print (0.5*m*v**2).value_in(generic_unit_system.energy)"
   ]
  },
  {
   "cell_type": "markdown",
   "metadata": {},
   "source": [
    "A unit converter can be used to convert between the systems of units, the following defines a converter between a unit system with G=1, an Astronomical Unit = 1, and the solar mass = 1:"
   ]
  },
  {
   "cell_type": "code",
   "execution_count": null,
   "metadata": {},
   "outputs": [],
   "source": [
    "converter = generic_unit_converter.ConvertBetweenGenericAndSiUnits(1 | units.MSun, 1 | units.AU, constants.G)\n",
    "print \"Mass of the sun, scaled:\" , converter.to_generic(1 | units.MSun)\n",
    "print \"10 generic masses, in S.I.:\" , converter.to_si(10 | generic_unit_system.mass)\n",
    "print \"1 generic time, in S.I:\" , converter.to_si(1 | generic_unit_system.time).as_quantity_in(units.yr)\n",
    "print \"10 km/s, in generic:\" , converter.to_generic(10.0 | units.km / units.s)"
   ]
  },
  {
   "cell_type": "markdown",
   "metadata": {},
   "source": [
    "Converters can be defined with any combination of constraints, as long as they are not degenerate and span the \n",
    "unit space required."
   ]
  },
  {
   "cell_type": "code",
   "execution_count": null,
   "metadata": {},
   "outputs": [],
   "source": [
    "natural_units_convert = generic_unit_converter.ConvertBetweenGenericAndSiUnits(constants.c,\n",
    "                                  constants.G,\n",
    "                                  constants.hbar,\n",
    "                                  1/(4*numpy.pi*constants.eps0),\n",
    "                                  constants.kB)\n",
    "\n",
    "M = 1 | generic_unit_system.mass\n",
    "T = 1 | generic_unit_system.time\n",
    "L = 1 | generic_unit_system.length\n",
    "Q = 1 | generic_unit_system.charge\n",
    "THETA= 1| generic_unit_system.temperature\n",
    "\n",
    "print natural_units_convert.to_si(M).in_(units.kg)\n",
    "print natural_units_convert.to_si(T).in_(units.s)\n",
    "print natural_units_convert.to_si(L).in_(units.m)\n",
    "print natural_units_convert.to_si(Q).in_(units.C)\n",
    "print natural_units_convert.to_si(THETA).in_(units.K)"
   ]
  },
  {
   "cell_type": "code",
   "execution_count": null,
   "metadata": {
    "collapsed": true
   },
   "outputs": [],
   "source": []
  }
 ],
 "metadata": {
  "kernelspec": {
   "display_name": "Python 2",
   "language": "python",
   "name": "python2"
  },
  "language_info": {
   "codemirror_mode": {
    "name": "ipython",
    "version": 2
   },
   "file_extension": ".py",
   "mimetype": "text/x-python",
   "name": "python",
   "nbconvert_exporter": "python",
   "pygments_lexer": "ipython2",
   "version": "2.7.13"
  }
 },
 "nbformat": 4,
 "nbformat_minor": 1
}
