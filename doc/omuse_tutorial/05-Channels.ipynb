{
 "cells": [
  {
   "cell_type": "markdown",
   "metadata": {},
   "source": [
    "Channels\n",
    "--------\n",
    "\n",
    "Part of interaction between codes in OMUSE is based on exchanging data between the *community* codes or exchanging data between these codes and OMUSE. As you might have noticed in the previous tutorial topic, every code provides access to particle collections or grids. The data of these collections or grids *live* inside the code, while the data of collections created in the script *live* inside the python process.\n",
    "\n",
    "\n",
    "<p style=\"background-color: lightyellow\">\n",
    "<em>Background:</em> All data storage of particle collections (or grids) is implemented by different storage classes. AMUSE supports storage classes that simply store the data in python lists and numpy arrays. AMUSE also supports storage classes that send messages to the codes to perform the actual storage and retrieval. At the script level the interface to these classes is all the same, so in normal use they behave the same. The performance of the different storage classes will vary, for code storage the data may be sent over an internet connection, causing slower reaction times. Smart usage of channels and caching data in memory sets will increase performance.\n",
    "</p>"
   ]
  },
  {
   "cell_type": "code",
   "execution_count": null,
   "metadata": {},
   "outputs": [],
   "source": [
    "%matplotlib inline\n",
    "import numpy\n",
    "from matplotlib import pyplot\n",
    "from omuse.units import units, constants\n",
    "from amuse.datamodel import Particles\n",
    "from amuse.datamodel import new_regular_grid"
   ]
  },
  {
   "cell_type": "markdown",
   "metadata": {},
   "source": [
    "It is easy to make two collections with the same properties, we only have to copy the collection"
   ]
  },
  {
   "cell_type": "code",
   "execution_count": null,
   "metadata": {},
   "outputs": [],
   "source": [
    "grid1=new_regular_grid( (3,4), [1.,2.] | units.m)\n",
    "grid2=grid1.copy()\n",
    "print grid1\n",
    "print grid2"
   ]
  },
  {
   "cell_type": "markdown",
   "metadata": {},
   "source": [
    "Setting the mass of the grid cell in one collection will not influence the cells in the second collection."
   ]
  },
  {
   "cell_type": "code",
   "execution_count": null,
   "metadata": {},
   "outputs": [],
   "source": [
    "grid1.mass = 1. | units.kg\n",
    "grid1.area = 1. | units.m**2\n",
    "print grid1\n",
    "print grid2"
   ]
  },
  {
   "cell_type": "markdown",
   "metadata": {},
   "source": [
    "You could however easily copy the data over with an attribute assignment"
   ]
  },
  {
   "cell_type": "code",
   "execution_count": null,
   "metadata": {},
   "outputs": [],
   "source": [
    "grid2.mass = grid1.mass\n",
    "print grid2"
   ]
  },
  {
   "cell_type": "markdown",
   "metadata": {},
   "source": [
    "AMUSE provides channels to optimize the transport of attribute values between collections. Channels are also save to use when adding or removing particles in particle sets. Channels are uni-directional, you'll need two to be able to do bi-directional information exchange."
   ]
  },
  {
   "cell_type": "code",
   "execution_count": null,
   "metadata": {},
   "outputs": [],
   "source": [
    "grid1.mass*=2\n",
    "channel_from_1_to_2 = grid1.new_channel_to(grid2)\n",
    "channel_from_1_to_2.copy_attributes([\"mass\"])\n",
    "print grid1.mass\n",
    "print grid2.mass"
   ]
  },
  {
   "cell_type": "markdown",
   "metadata": {},
   "source": [
    "Channels can be used to copy multiple attributes in one go, this can optimize data transport between codes."
   ]
  },
  {
   "cell_type": "code",
   "execution_count": null,
   "metadata": {},
   "outputs": [],
   "source": [
    "channel_from_1_to_2.copy_attributes([\"mass\", \"area\"])\n",
    "print grid2"
   ]
  },
  {
   "cell_type": "markdown",
   "metadata": {},
   "source": [
    "Transforms\n",
    "----------\n",
    "\n",
    "In the same way we copy data between grids in the memory of the script we can copy data between grids in memory and in a running simulation code and between simulation codes. Let's illustrate that by using the QGmodel."
   ]
  },
  {
   "cell_type": "code",
   "execution_count": null,
   "metadata": {
    "collapsed": true
   },
   "outputs": [],
   "source": [
    "from omuse.community.qgmodel.interface import QGmodel"
   ]
  },
  {
   "cell_type": "code",
   "execution_count": null,
   "metadata": {},
   "outputs": [],
   "source": [
    "q=QGmodel()\n",
    "q.parameters.dx=40. | units.km\n",
    "q.parameters.dy=40. | units.km\n",
    "q.parameters.interface_wind=True"
   ]
  },
  {
   "cell_type": "markdown",
   "metadata": {},
   "source": [
    "As we can see QGmodel receives windstress forcings (`tau_x` only):"
   ]
  },
  {
   "cell_type": "code",
   "execution_count": null,
   "metadata": {},
   "outputs": [],
   "source": [
    "print q.forcings"
   ]
  },
  {
   "cell_type": "markdown",
   "metadata": {},
   "source": [
    "Now, suppose that we have a model that generates a grid with wind velocities (here we just generate an empty copy of the forcings grid, and fill that by hand):"
   ]
  },
  {
   "cell_type": "code",
   "execution_count": null,
   "metadata": {
    "collapsed": true
   },
   "outputs": [],
   "source": [
    "grid=q.forcings.empty_copy()\n",
    "grid.vx=10. | units.m/units.s\n",
    "grid.vy=0. | units.m/units.s"
   ]
  },
  {
   "cell_type": "markdown",
   "metadata": {},
   "source": [
    "Of course there is a functional relation between wind speed and surface wind stress, which we could use: "
   ]
  },
  {
   "cell_type": "code",
   "execution_count": null,
   "metadata": {},
   "outputs": [],
   "source": [
    "def wind_stress(vx,vy, rho_air=0.0013 | units.g/units.cm**3, winddrag_coeff=0.001):\n",
    "    v=(vx**2+vy**2)**0.5\n",
    "    tau_x=rho_air*winddrag_coeff*vx*v\n",
    "    tau_y=rho_air*winddrag_coeff*vy*v\n",
    "    return tau_x,tau_y\n",
    "\n",
    "grid.tau_x=wind_stress(grid.vx,grid.vy)[0]\n",
    "print grid.tau_x[10,10].in_(units.Pa)\n",
    "channel=grid.new_channel_to(q.forcings)\n",
    "channel.copy_attributes([\"tau_x\"])\n",
    "print q.forcings[10,10].tau_x.in_(units.Pa)"
   ]
  },
  {
   "cell_type": "markdown",
   "metadata": {},
   "source": [
    "This is fine, but adds an attribute to grid (which we may not need for anything else). Additionally, we cannot add attributes in a simple way to a grid of a code (remember that in that case the grid refers to storage in the code). An alternative is to use a functional transform:"
   ]
  },
  {
   "cell_type": "code",
   "execution_count": null,
   "metadata": {},
   "outputs": [],
   "source": [
    "grid=q.forcings.empty_copy()\n",
    "grid.vx=10. | units.m/units.s\n",
    "grid.vy=0. | units.m/units.s\n",
    "channel=grid.new_channel_to(q.forcings)\n",
    "def wind_stress_tau_x(vx,vy):\n",
    "    return [wind_stress(vx,vy)[0] ] # note that the function must return a list\n",
    "channel.transform([\"tau_x\"], wind_stress_tau_x, [\"vx\",\"vy\"])\n",
    "print q.forcings[10,10].tau_x.in_(units.Pa)"
   ]
  },
  {
   "cell_type": "markdown",
   "metadata": {},
   "source": [
    "The transform is specified by (target, function, source), where target and source are lists with the names of the target and source attributes. The function takes as input the arguments specified by source, and must output a list of the same length as target."
   ]
  },
  {
   "cell_type": "markdown",
   "metadata": {},
   "source": [
    "Remapping channel\n",
    "-----------------\n",
    "\n",
    "In case the source and target grids are not the same shape, or of different type the above channel will not work. \n",
    "In this case it is necessary to do a remapping between the values on the grids. In practice this is a situation that\n",
    "is often encountered when coupling different simulation codes. OMUSE provides a framework for remapping grids.\n",
    "\n",
    "Within OMUSE one can define a remapping channel between grids, which takes a remapping method as argument. A number of \n",
    "remapping methods are available (and these can be used for different source and target grids, although not all \n",
    "                                 combinations are implemented yet). We give a simple example using an interpolating 2D remapper."
   ]
  },
  {
   "cell_type": "code",
   "execution_count": null,
   "metadata": {
    "collapsed": true
   },
   "outputs": [],
   "source": [
    "from amuse.ext.grid_remappers import interpolating_2D_remapper\n",
    "from amuse.datamodel import new_cartesian_grid,UnstructuredGrid"
   ]
  },
  {
   "cell_type": "markdown",
   "metadata": {},
   "source": [
    "We define a simple 2D grid and a 2D grid sampling the domain of the 2D grid:"
   ]
  },
  {
   "cell_type": "code",
   "execution_count": null,
   "metadata": {},
   "outputs": [],
   "source": [
    "grid=new_cartesian_grid((100,100), 1. | units.km)\n",
    "xc=50. | units.km\n",
    "yc=50. | units.km\n",
    "grid.distance=((grid.x-xc)**2+(grid.y-yc)**2)**0.5\n",
    "smallgrid=new_cartesian_grid((20,20), 0.5 | units.km)\n",
    "smallgrid.position+=[45.,45.] | units.km"
   ]
  },
  {
   "cell_type": "markdown",
   "metadata": {},
   "source": [
    "The following defines a channel that can be used to transport values from `grid` to `smallgrid`. The values \n",
    "need to be remapped, and for this a simple interpolating remapper is used. "
   ]
  },
  {
   "cell_type": "code",
   "execution_count": null,
   "metadata": {},
   "outputs": [],
   "source": [
    "channel=grid.new_remapping_channel_to(smallgrid, interpolating_2D_remapper)"
   ]
  },
  {
   "cell_type": "markdown",
   "metadata": {},
   "source": [
    "Once this channel is defined and initialized, it can be used in much the same way as a normal channel:"
   ]
  },
  {
   "cell_type": "code",
   "execution_count": null,
   "metadata": {},
   "outputs": [],
   "source": [
    "channel.copy_attributes([\"distance\"])\n",
    "print smallgrid"
   ]
  },
  {
   "cell_type": "code",
   "execution_count": null,
   "metadata": {},
   "outputs": [],
   "source": [
    "pyplot.subplot(121)\n",
    "pyplot.imshow(numpy.transpose(grid.distance.value_in(units.km)), origin='lower',interpolation=\"nearest\")\n",
    "pyplot.subplot(122)\n",
    "pyplot.imshow(numpy.transpose(smallgrid.distance.value_in(units.km)), origin='lower',interpolation=\"nearest\")"
   ]
  },
  {
   "cell_type": "markdown",
   "metadata": {},
   "source": [
    "The interpolating remapper can be used for any 2D structured source grid to any target grid with 2D positions. More \n",
    "complicated (conservative) remappers are available through the CDO package.  "
   ]
  },
  {
   "cell_type": "code",
   "execution_count": null,
   "metadata": {
    "collapsed": true
   },
   "outputs": [],
   "source": []
  }
 ],
 "metadata": {
  "kernelspec": {
   "display_name": "Python 2",
   "language": "python",
   "name": "python2"
  },
  "language_info": {
   "codemirror_mode": {
    "name": "ipython",
    "version": 2
   },
   "file_extension": ".py",
   "mimetype": "text/x-python",
   "name": "python",
   "nbconvert_exporter": "python",
   "pygments_lexer": "ipython2",
   "version": "2.7.13"
  }
 },
 "nbformat": 4,
 "nbformat_minor": 1
}
