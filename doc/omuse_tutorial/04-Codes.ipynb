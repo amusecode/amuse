{
 "cells": [
  {
   "cell_type": "markdown",
   "metadata": {},
   "source": [
    "Codes\n",
    "-----\n",
    "\n",
    "So far we have been looking at some of the basic tools provided with OMUSE. These tools are generally useful but mainly meant to ease working with *community* codes. *Community* codes form the core of the OMUSE framework and are the functional components to evolve oceanographic models in time or calculate properties of the physical models.\n",
    "\n",
    "*Community* codes are existing and newly developed applications, implemented in C/C++ or Fortran (or other languages). The OMUSE framework provides an interface to these codes so that you can interact with every code in a standard way.\n",
    "\n"
   ]
  },
  {
   "cell_type": "markdown",
   "metadata": {},
   "source": [
    "To start a code one must import the interface class for a code (again we start with some useful imports):"
   ]
  },
  {
   "cell_type": "code",
   "execution_count": null,
   "metadata": {},
   "outputs": [],
   "source": [
    "%matplotlib inline\n",
    "import numpy\n",
    "from matplotlib import pyplot\n",
    "from omuse.units import units, constants\n",
    "from amuse.io import write_set_to_file\n",
    "\n",
    "\n",
    "from omuse.community.qgmodel.interface import QGmodel"
   ]
  },
  {
   "cell_type": "markdown",
   "metadata": {},
   "source": [
    "The interface to a *Community* code is implemented as a class with a name based on the name of the original application. In this case we will use QGmodel, a quasi geostrophic solver for a square domain. We can *instantiate* the QG model:"
   ]
  },
  {
   "cell_type": "code",
   "execution_count": null,
   "metadata": {
    "collapsed": true
   },
   "outputs": [],
   "source": [
    "q=QGmodel()"
   ]
  },
  {
   "cell_type": "markdown",
   "metadata": {},
   "source": [
    "in fact we can start multiple instances:"
   ]
  },
  {
   "cell_type": "code",
   "execution_count": null,
   "metadata": {},
   "outputs": [],
   "source": [
    "q_=[QGmodel() for i in range(3)]\n",
    "print q_"
   ]
  },
  {
   "cell_type": "markdown",
   "metadata": {},
   "source": [
    "At this point, the code is running, but waiting for further input, for example we can query (and set) its parameters (these will be different for different codes). Note that the parameters carry units:"
   ]
  },
  {
   "cell_type": "code",
   "execution_count": null,
   "metadata": {},
   "outputs": [],
   "source": [
    "print q.parameters"
   ]
  },
  {
   "cell_type": "markdown",
   "metadata": {},
   "source": [
    "We can get information on the parameters using `print q.parameters.__doc__`. \n",
    "\n",
    "Parameters can be set, for example this allows the setting of the wind stress forcing:"
   ]
  },
  {
   "cell_type": "code",
   "execution_count": null,
   "metadata": {
    "collapsed": true
   },
   "outputs": [],
   "source": [
    "q.parameters.interface_wind=True"
   ]
  },
  {
   "cell_type": "markdown",
   "metadata": {},
   "source": [
    "A simulation code in OMUSE typically supports particle collections or grids, these are used to make the simulation state accessible, and to receive e.g. external forcings."
   ]
  },
  {
   "cell_type": "code",
   "execution_count": null,
   "metadata": {},
   "outputs": [],
   "source": [
    "print q.grid\n",
    "print q.forcings\n",
    "print q.boundary_north"
   ]
  },
  {
   "cell_type": "markdown",
   "metadata": {},
   "source": [
    "Note that the simulation state `grid` is 3D, the third dimension describes the different modes (by default the number of modes is Nm=1, so the model is purely barotropic. Here we only use Nm=1). The model starts out initialized to zero:"
   ]
  },
  {
   "cell_type": "code",
   "execution_count": null,
   "metadata": {},
   "outputs": [],
   "source": [
    "print'min:', q.grid.psi.min(),'max:',q.grid.psi.max()"
   ]
  },
  {
   "cell_type": "markdown",
   "metadata": {},
   "source": [
    "We can evolve the model forward in time using `evolve_model`, but first let's impose some wind stress:"
   ]
  },
  {
   "cell_type": "code",
   "execution_count": null,
   "metadata": {},
   "outputs": [],
   "source": [
    "q.forcings.tau_x= (0.15 | units.Pa)*numpy.sin(numpy.pi*q.forcings.y/q.parameters.Ly)"
   ]
  },
  {
   "cell_type": "code",
   "execution_count": null,
   "metadata": {},
   "outputs": [],
   "source": [
    "q.evolve_model(1 | units.day)\n",
    "print \"evolved until time \", q.model_time"
   ]
  },
  {
   "cell_type": "markdown",
   "metadata": {},
   "source": [
    "After evolving we can save the data or plot it if we want."
   ]
  },
  {
   "cell_type": "code",
   "execution_count": null,
   "metadata": {},
   "outputs": [],
   "source": [
    "pyplot.imshow(numpy.transpose ( q.grid[:,:,0].psi.value_in(units.Sv/units.km)), origin='lower')\n",
    "write_set_to_file(q.grid,\"qgmodel_grid\",\"amuse\")\n"
   ]
  },
  {
   "cell_type": "markdown",
   "metadata": {},
   "source": [
    "As mentioned above, we can start any number of instances of the `QGmodel` code, or any other code, and they can be evolved independently. When we are done with a particular instance of the code, we can stop the code (freeing the memory and releasing the cores for something else). After stopping the code we cannot interact with it any longer and making further requests to the code will result in an error. "
   ]
  },
  {
   "cell_type": "code",
   "execution_count": null,
   "metadata": {},
   "outputs": [],
   "source": [
    "q.stop()"
   ]
  },
  {
   "cell_type": "code",
   "execution_count": null,
   "metadata": {},
   "outputs": [],
   "source": [
    "print q.parameters"
   ]
  },
  {
   "cell_type": "markdown",
   "metadata": {},
   "source": [
    "Code interaction sequence\n",
    "-------------------------\n",
    "\n",
    "All interaction with codes in omuse (and amuse) follow the same general sequence. An instance of the code interface is created, parameters controlling the code are set, particles are added or grids filled, the model is evolved, data is retrieved and the code is stopped. So, for illustration let us calculate a completely different problem, namely the evolution of a small star cluster:"
   ]
  },
  {
   "cell_type": "code",
   "execution_count": null,
   "metadata": {},
   "outputs": [],
   "source": [
    "from amuse.community.bhtree.interface import BHTree\n",
    "from amuse.units import nbody_system\n",
    "from amuse.ic.plummer import new_plummer_model\n",
    "code = BHTree()                                                   # 1 code is created and started\n",
    "code.parameters.epsilon_squared = (0.01 | nbody_system.length)**2 # 2 parameters are set\n",
    "code.particles.add_particles(new_plummer_model(100))              # 3 particles are added\n",
    "code.evolve_model(1 | nbody_system.time)                          # 4 model is evolved in the code\n",
    "write_set_to_file(code.particles, 'evolved_cluster.hdf5', 'hdf5') # 5 data is retrieved and stored to disk\n",
    "print 'evolved until',code.model_time                            \n",
    "code.stop()                                                       # 6 code is stopped"
   ]
  },
  {
   "cell_type": "markdown",
   "metadata": {},
   "source": [
    "Some steps are optional, for example in a lot of codes you do not need to set any parameters if you have a simple problem. Others are critical, for example, you'll need to add particles to the code or else it will not evolve anything and some codes will return with an error. "
   ]
  },
  {
   "cell_type": "code",
   "execution_count": null,
   "metadata": {},
   "outputs": [],
   "source": []
  }
 ],
 "metadata": {
  "kernelspec": {
   "display_name": "Python 2",
   "language": "python",
   "name": "python2"
  },
  "language_info": {
   "codemirror_mode": {
    "name": "ipython",
    "version": 2
   },
   "file_extension": ".py",
   "mimetype": "text/x-python",
   "name": "python",
   "nbconvert_exporter": "python",
   "pygments_lexer": "ipython2",
   "version": "2.7.13"
  }
 },
 "nbformat": 4,
 "nbformat_minor": 1
}
