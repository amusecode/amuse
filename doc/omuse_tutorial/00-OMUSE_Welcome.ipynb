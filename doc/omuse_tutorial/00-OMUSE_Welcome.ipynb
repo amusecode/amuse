{
 "cells": [
  {
   "cell_type": "markdown",
   "metadata": {},
   "source": [
    "Welcome to the ***OMUSE binary release***.  This release contains a working version of OMUSE with some small substractions and additions. Most notable addition is the current web-page you are viewing. This is the [IPython Notebook web-application](http://ipython.org/ipython-doc/dev/interactive/htmlnotebook.html \"IPython Notebook documentation\"). With this application you can create, edit and run python scripts on your local computer. We will be using it for these tutorials, but you can use it for all your interactive explorations of Python and it's many libraries, scripts and applications. Note that if you already have an IPython environment on this machine, this may not by default be available in this tutorial."
   ]
  },
  {
   "cell_type": "markdown",
   "metadata": {},
   "source": [
    "Using the notebook interface is not very difficult, but you''ll need to get acquainted with some keyboard shortcuts.\n",
    "To perform a simple Python expression, type it inside a ***code*** cell and press 'Shift-Enter':"
   ]
  },
  {
   "cell_type": "code",
   "execution_count": null,
   "metadata": {
    "collapsed": false
   },
   "outputs": [],
   "source": [
    "1 + 1"
   ]
  },
  {
   "cell_type": "markdown",
   "metadata": {},
   "source": [
    "The application also supports _keyboard completion_. If you know the first letters of a function or a class, IPython can lookup the rest. For example type 'pri' and press the 'Tab' key:"
   ]
  },
  {
   "cell_type": "code",
   "execution_count": null,
   "metadata": {
    "collapsed": false
   },
   "outputs": [],
   "source": [
    "pri"
   ]
  },
  {
   "cell_type": "markdown",
   "metadata": {},
   "source": [
    "This also works for modules, just enter an import statement and press tab on the module name:"
   ]
  },
  {
   "cell_type": "code",
   "execution_count": null,
   "metadata": {
    "collapsed": false
   },
   "outputs": [],
   "source": [
    "from omuse import u"
   ]
  },
  {
   "cell_type": "markdown",
   "metadata": {},
   "source": [
    "The 'Tab' key can also be used to get documentation for a function. The documentation will be shown when you press the 'shift' + 'Tab' key just after a open  parenthesis '('. For example type 'sorted(' and press the 'shift' + 'Tab' key:"
   ]
  },
  {
   "cell_type": "code",
   "execution_count": null,
   "metadata": {
    "collapsed": false
   },
   "outputs": [],
   "source": [
    "sorted("
   ]
  },
  {
   "cell_type": "markdown",
   "metadata": {},
   "source": [
    "There are a few more keyboard shortcuts. To find out which, you can navigate to the 'Keyboard Shortcuts' item in the Help menu."
   ]
  },
  {
   "cell_type": "markdown",
   "metadata": {},
   "source": [
    "Here, and also in normal OMUSE scripts, matplotlib and numpy are often used for plotting and numerical operations, these are enabled by the following imports. The inline statement includes the plots into the notebook:"
   ]
  },
  {
   "cell_type": "code",
   "execution_count": null,
   "metadata": {
    "collapsed": false
   },
   "outputs": [],
   "source": [
    "%matplotlib inline\n",
    "from matplotlib import pyplot\n",
    "import numpy\n",
    "\n",
    "pyplot.plot(numpy.arange(10))"
   ]
  },
  {
   "cell_type": "code",
   "execution_count": null,
   "metadata": {
    "collapsed": true
   },
   "outputs": [],
   "source": []
  }
 ],
 "metadata": {
  "kernelspec": {
   "display_name": "Python 2",
   "language": "python",
   "name": "python2"
  },
  "language_info": {
   "codemirror_mode": {
    "name": "ipython",
    "version": 2
   },
   "file_extension": ".py",
   "mimetype": "text/x-python",
   "name": "python",
   "nbconvert_exporter": "python",
   "pygments_lexer": "ipython2",
   "version": "2.7.9"
  }
 },
 "nbformat": 4,
 "nbformat_minor": 0
}
